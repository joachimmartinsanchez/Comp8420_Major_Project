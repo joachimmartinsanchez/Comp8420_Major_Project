{
 "cells": [
  {
   "cell_type": "markdown",
   "id": "984f9006",
   "metadata": {},
   "source": [
    "## Libraries"
   ]
  },
  {
   "cell_type": "code",
   "execution_count": 1,
   "id": "961964ee",
   "metadata": {},
   "outputs": [
    {
     "name": "stderr",
     "output_type": "stream",
     "text": [
      "d:\\AI_Repositories_2\\Pytorch\\pytorch1\\Lib\\site-packages\\tqdm\\auto.py:21: TqdmWarning: IProgress not found. Please update jupyter and ipywidgets. See https://ipywidgets.readthedocs.io/en/stable/user_install.html\n",
      "  from .autonotebook import tqdm as notebook_tqdm\n"
     ]
    }
   ],
   "source": [
    "import pandas as pd\n",
    "from datasets import Dataset\n",
    "from transformers import AutoTokenizer, AutoModelForSequenceClassification, TrainingArguments, Trainer\n",
    "import torch"
   ]
  },
  {
   "cell_type": "markdown",
   "id": "668b234b",
   "metadata": {},
   "source": [
    "## Dataset Loading"
   ]
  },
  {
   "cell_type": "markdown",
   "id": "459c7430",
   "metadata": {},
   "source": [
    "We used the dataset restaurant reviews from kaggle.com. (Link: https://www.kaggle.com/code/latifar/restaurant-reviews/notebook). This Dataset have 10,000 datapoints. This dataset includes various features such as:\n",
    "\n",
    "\n",
    "- Restaurant: The name of the restaurant being reviewed.\n",
    "\n",
    "- Reviewer: The individual who provided the review.\n",
    "\n",
    "- Review: The textual content of the review.\n",
    "\n",
    "- Rating: The rating given by the reviewer, which may include numeric values (e.g., 1-5) and non-numeric entries like 'Like'.\n",
    "\n",
    "- Metadata: Additional information related to the review.\n",
    "\n",
    "- Time: Timestamp indicating when the review was made.\n",
    "\n",
    "- Pictures: Images associated with the review.\n",
    "\n",
    "We do not need all of the columns of this dataset for our sentiment prediction model. We will drop irrelevant columns and we will also do preprocessing methods to maintain data quality.\n",
    "\n"
   ]
  },
  {
   "cell_type": "code",
   "execution_count": 2,
   "id": "0bd05c02",
   "metadata": {},
   "outputs": [],
   "source": [
    "df = pd.read_csv(\"Restaurant reviews.csv\", encoding='ISO-8859-1')"
   ]
  },
  {
   "cell_type": "code",
   "execution_count": 3,
   "id": "c733fb2f",
   "metadata": {},
   "outputs": [
    {
     "data": {
      "text/html": [
       "<div>\n",
       "<style scoped>\n",
       "    .dataframe tbody tr th:only-of-type {\n",
       "        vertical-align: middle;\n",
       "    }\n",
       "\n",
       "    .dataframe tbody tr th {\n",
       "        vertical-align: top;\n",
       "    }\n",
       "\n",
       "    .dataframe thead th {\n",
       "        text-align: right;\n",
       "    }\n",
       "</style>\n",
       "<table border=\"1\" class=\"dataframe\">\n",
       "  <thead>\n",
       "    <tr style=\"text-align: right;\">\n",
       "      <th></th>\n",
       "      <th>Restaurant</th>\n",
       "      <th>Reviewer</th>\n",
       "      <th>Review</th>\n",
       "      <th>Rating</th>\n",
       "      <th>Metadata</th>\n",
       "      <th>Time</th>\n",
       "      <th>Pictures</th>\n",
       "      <th>7514</th>\n",
       "    </tr>\n",
       "  </thead>\n",
       "  <tbody>\n",
       "    <tr>\n",
       "      <th>0</th>\n",
       "      <td>Beyond Flavours</td>\n",
       "      <td>Rusha Chakraborty</td>\n",
       "      <td>The ambience was good, food was quite good . h...</td>\n",
       "      <td>5</td>\n",
       "      <td>1 Review , 2 Followers</td>\n",
       "      <td>5/25/2019 15:54</td>\n",
       "      <td>0</td>\n",
       "      <td>2447.0</td>\n",
       "    </tr>\n",
       "    <tr>\n",
       "      <th>1</th>\n",
       "      <td>Beyond Flavours</td>\n",
       "      <td>Anusha Tirumalaneedi</td>\n",
       "      <td>Ambience is too good for a pleasant evening. S...</td>\n",
       "      <td>5</td>\n",
       "      <td>3 Reviews , 2 Followers</td>\n",
       "      <td>5/25/2019 14:20</td>\n",
       "      <td>0</td>\n",
       "      <td>NaN</td>\n",
       "    </tr>\n",
       "    <tr>\n",
       "      <th>2</th>\n",
       "      <td>Beyond Flavours</td>\n",
       "      <td>Ashok Shekhawat</td>\n",
       "      <td>A must try.. great food great ambience. Thnx f...</td>\n",
       "      <td>5</td>\n",
       "      <td>2 Reviews , 3 Followers</td>\n",
       "      <td>5/24/2019 22:54</td>\n",
       "      <td>0</td>\n",
       "      <td>NaN</td>\n",
       "    </tr>\n",
       "    <tr>\n",
       "      <th>3</th>\n",
       "      <td>Beyond Flavours</td>\n",
       "      <td>Swapnil Sarkar</td>\n",
       "      <td>Soumen das and Arun was a great guy. Only beca...</td>\n",
       "      <td>5</td>\n",
       "      <td>1 Review , 1 Follower</td>\n",
       "      <td>5/24/2019 22:11</td>\n",
       "      <td>0</td>\n",
       "      <td>NaN</td>\n",
       "    </tr>\n",
       "    <tr>\n",
       "      <th>4</th>\n",
       "      <td>Beyond Flavours</td>\n",
       "      <td>Dileep</td>\n",
       "      <td>Food is good.we ordered Kodi drumsticks and ba...</td>\n",
       "      <td>5</td>\n",
       "      <td>3 Reviews , 2 Followers</td>\n",
       "      <td>5/24/2019 21:37</td>\n",
       "      <td>0</td>\n",
       "      <td>NaN</td>\n",
       "    </tr>\n",
       "  </tbody>\n",
       "</table>\n",
       "</div>"
      ],
      "text/plain": [
       "        Restaurant              Reviewer  \\\n",
       "0  Beyond Flavours     Rusha Chakraborty   \n",
       "1  Beyond Flavours  Anusha Tirumalaneedi   \n",
       "2  Beyond Flavours       Ashok Shekhawat   \n",
       "3  Beyond Flavours        Swapnil Sarkar   \n",
       "4  Beyond Flavours                Dileep   \n",
       "\n",
       "                                              Review Rating  \\\n",
       "0  The ambience was good, food was quite good . h...      5   \n",
       "1  Ambience is too good for a pleasant evening. S...      5   \n",
       "2  A must try.. great food great ambience. Thnx f...      5   \n",
       "3  Soumen das and Arun was a great guy. Only beca...      5   \n",
       "4  Food is good.we ordered Kodi drumsticks and ba...      5   \n",
       "\n",
       "                  Metadata             Time  Pictures    7514  \n",
       "0   1 Review , 2 Followers  5/25/2019 15:54         0  2447.0  \n",
       "1  3 Reviews , 2 Followers  5/25/2019 14:20         0     NaN  \n",
       "2  2 Reviews , 3 Followers  5/24/2019 22:54         0     NaN  \n",
       "3    1 Review , 1 Follower  5/24/2019 22:11         0     NaN  \n",
       "4  3 Reviews , 2 Followers  5/24/2019 21:37         0     NaN  "
      ]
     },
     "execution_count": 3,
     "metadata": {},
     "output_type": "execute_result"
    }
   ],
   "source": [
    "df.head()\n"
   ]
  },
  {
   "cell_type": "markdown",
   "id": "f8243ec7",
   "metadata": {},
   "source": [
    "By dropping the columns below, we streamlined the dataset to focus only on the review text and its associated sentiment label, improving model efficiency and interpretability."
   ]
  },
  {
   "cell_type": "markdown",
   "id": "c1b427e8",
   "metadata": {},
   "source": [
    "## Data Preprocessing"
   ]
  },
  {
   "cell_type": "code",
   "execution_count": 4,
   "id": "cea09100",
   "metadata": {},
   "outputs": [],
   "source": [
    "df = df.drop(columns=(['Restaurant','Reviewer','Metadata','Time','Pictures','7514']))"
   ]
  },
  {
   "cell_type": "markdown",
   "id": "ce0970a5",
   "metadata": {},
   "source": [
    "We examined the unique values in the Rating column and found that some entries are non-numeric, such as 'Like' and NaN. These inconsistent values need to be cleaned or converted during preprocessing to ensure the model can interpret the ratings correctly. Proper handling of these values improves both model accuracy and data integrity."
   ]
  },
  {
   "cell_type": "code",
   "execution_count": 5,
   "id": "51745ca4",
   "metadata": {},
   "outputs": [
    {
     "data": {
      "text/plain": [
       "array(['5', '4', '1', '3', '2', '3.5', '4.5', '2.5', '1.5', 'Like', nan],\n",
       "      dtype=object)"
      ]
     },
     "execution_count": 5,
     "metadata": {},
     "output_type": "execute_result"
    }
   ],
   "source": [
    "df['Rating'].unique()"
   ]
  },
  {
   "cell_type": "markdown",
   "id": "c8815ec4",
   "metadata": {},
   "source": [
    "We replaced the value 'Like' with 4. We assumed that the Like value suggest a positive rating."
   ]
  },
  {
   "cell_type": "code",
   "execution_count": 6,
   "id": "a4ab4085",
   "metadata": {},
   "outputs": [],
   "source": [
    "df['Rating'] = df['Rating'].replace('Like', 4)"
   ]
  },
  {
   "cell_type": "markdown",
   "id": "12feb8cd",
   "metadata": {},
   "source": [
    "We dropped rows with missing values in the Rating and Review columns to ensure data completeness. Removing null entries helps maintain data quality and improves the reliability of the model's training process."
   ]
  },
  {
   "cell_type": "code",
   "execution_count": 7,
   "id": "2abee325",
   "metadata": {},
   "outputs": [],
   "source": [
    "df = df.dropna(subset=['Rating'])"
   ]
  },
  {
   "cell_type": "code",
   "execution_count": 8,
   "id": "f6393537",
   "metadata": {},
   "outputs": [],
   "source": [
    "df = df.dropna(subset=[\"Review\"])"
   ]
  },
  {
   "cell_type": "markdown",
   "id": "27931c24",
   "metadata": {},
   "source": [
    "We converted the Rating values to float data type using astype(float) to ensure consistent numerical formatting, which is essential for further processing and modeling."
   ]
  },
  {
   "cell_type": "code",
   "execution_count": 9,
   "id": "ef2374d0",
   "metadata": {},
   "outputs": [],
   "source": [
    "df['Rating'] = df['Rating'].astype(float)"
   ]
  },
  {
   "cell_type": "markdown",
   "id": "72f7f25b",
   "metadata": {},
   "source": [
    "The map_sentiment function is used to transform numerical ratings into categorical sentiment labels for easier sentiment analysis or classification tasks. Ratings less than 3 are labeled as \"negative\", ratings equal to 3 are \"neutral\", and ratings from 4 to 5 are labeled as \"positive\"."
   ]
  },
  {
   "cell_type": "code",
   "execution_count": 10,
   "id": "7c3164be",
   "metadata": {},
   "outputs": [
    {
     "name": "stdout",
     "output_type": "stream",
     "text": [
      "Rating\n",
      "positive    6269\n",
      "negative    2447\n",
      "neutral     1239\n",
      "Name: count, dtype: int64\n"
     ]
    }
   ],
   "source": [
    "def map_sentiment(label):\n",
    "    if label >= 4:\n",
    "        return \"positive\"\n",
    "    elif label >=3:\n",
    "        return \"neutral\"\n",
    "    elif label < 3:\n",
    "        return \"negative\"\n",
    "\n",
    "# Apply the function to create a new sentiment column\n",
    "df[\"Rating\"] = df[\"Rating\"].apply(map_sentiment)\n",
    "\n",
    "# Optional: View the distribution\n",
    "print(df[\"Rating\"].value_counts())"
   ]
  },
  {
   "cell_type": "markdown",
   "id": "0085db61",
   "metadata": {},
   "source": [
    "The bar chart shows the class distribution of sentiment categories derived from the restaurant review ratings. The positive class dominates the dataset with 6,269 samples, followed by 2,447 negative reviews and only 1,239 neutral ones. This significant imbalance indicates a strong skew toward positive sentiments, which may reflect a bias in user-submitted reviews. \n",
    "\n",
    "To build a robust model, we need to address this imbalance carefully. Instead of undersampling the positive class or oversampling the minority classes, we should explore alternative techniques such as class weighting to ensure effective use of all available data points."
   ]
  },
  {
   "cell_type": "code",
   "execution_count": 11,
   "id": "fb09028a",
   "metadata": {},
   "outputs": [
    {
     "data": {
      "text/plain": [
       "<Axes: xlabel='Rating'>"
      ]
     },
     "execution_count": 11,
     "metadata": {},
     "output_type": "execute_result"
    },
    {
     "data": {
      "image/png": "[encoded data removed]",
      "text/plain": [
       "<Figure size 640x480 with 1 Axes>"
      ]
     },
     "metadata": {},
     "output_type": "display_data"
    }
   ],
   "source": [
    "df['Rating'].value_counts().plot(kind='bar')\n"
   ]
  },
  {
   "cell_type": "markdown",
   "id": "b5502004",
   "metadata": {},
   "source": [
    "function clean_text ensures the review text is clean, consistent, and simplified. We are removing extra spaces and unwanted symbols in the review column."
   ]
  },
  {
   "cell_type": "code",
   "execution_count": 12,
   "id": "b4f18a14",
   "metadata": {},
   "outputs": [],
   "source": [
    "import re\n",
    "\n",
    "def clean_text(text):\n",
    "    text = text.lower()\n",
    "    text = re.sub(r\"[^a-z0-9\\s.,!?']\", '', text)  # keep punctuation useful for sentiment\n",
    "    text = re.sub(r\"\\s+\", ' ', text).strip()\n",
    "    return text\n",
    "\n",
    "df[\"Review\"] = df[\"Review\"].astype(str).apply(clean_text)\n"
   ]
  },
  {
   "cell_type": "markdown",
   "id": "e58f1c05",
   "metadata": {},
   "source": [
    "The code block below maps the sentiment labels (negative, neutral, positive) to numeric values (0, 1, 2) to prepare them for model training. It also ensures the review content is treated as string type and renames the Review column to text, which is a common convention in NLP tasks."
   ]
  },
  {
   "cell_type": "code",
   "execution_count": 13,
   "id": "ab836880",
   "metadata": {},
   "outputs": [],
   "source": [
    "# Map sentiment to numeric labels\n",
    "label_map = {'negative': 0, 'neutral': 1, 'positive': 2}\n",
    "df[\"label\"] = df[\"Rating\"].map(label_map)\n",
    "\n",
    "df[\"Review\"] = df[\"Review\"].astype(str)\n",
    "df = df.rename(columns={\"Review\": \"text\"})\n"
   ]
  },
  {
   "cell_type": "markdown",
   "id": "e6037b8e",
   "metadata": {},
   "source": [
    "## Train, Validation, Test Split\n",
    "\n",
    "We used an 80/10/10 split for training, validation and test dataset. We used Stratify to ensure that all sentiment classes remain proportionally represented in each split."
   ]
  },
  {
   "cell_type": "code",
   "execution_count": 14,
   "id": "ebd8d9ee",
   "metadata": {},
   "outputs": [
    {
     "name": "stdout",
     "output_type": "stream",
     "text": [
      "Train distribution:\n",
      " Rating\n",
      "positive    5015\n",
      "negative    1958\n",
      "neutral      991\n",
      "Name: count, dtype: int64\n",
      "Val distribution:\n",
      " Rating\n",
      "positive    627\n",
      "negative    244\n",
      "neutral     124\n",
      "Name: count, dtype: int64\n",
      "Test distribution:\n",
      " Rating\n",
      "positive    627\n",
      "negative    245\n",
      "neutral     124\n",
      "Name: count, dtype: int64\n"
     ]
    }
   ],
   "source": [
    "from sklearn.model_selection import train_test_split\n",
    "from sklearn.utils.class_weight import compute_class_weight\n",
    "import numpy as np\n",
    "\n",
    "\n",
    "# Train/val/test split\n",
    "train_df, temp_df = train_test_split(df, stratify=df[\"label\"], test_size=0.2, random_state=42)\n",
    "val_df, test_df = train_test_split(temp_df, stratify=temp_df[\"label\"], test_size=0.5, random_state=42)\n",
    "\n",
    "\n",
    "# Check label distribution\n",
    "print(\"Train distribution:\\n\", train_df[\"Rating\"].value_counts())\n",
    "print(\"Val distribution:\\n\", val_df[\"Rating\"].value_counts())\n",
    "print(\"Test distribution:\\n\", test_df[\"Rating\"].value_counts())\n",
    "\n",
    "\n",
    "\n"
   ]
  },
  {
   "cell_type": "markdown",
   "id": "b28fca6c",
   "metadata": {},
   "source": [
    "We now convert the train,validation and test splits into huggingface dataset objects. "
   ]
  },
  {
   "cell_type": "code",
   "execution_count": 15,
   "id": "41343b9b",
   "metadata": {},
   "outputs": [],
   "source": [
    "train_dataset = Dataset.from_pandas(train_df[[\"text\", \"label\"]])\n",
    "val_dataset = Dataset.from_pandas(val_df[[\"text\", \"label\"]])\n",
    "test_dataset = Dataset.from_pandas(test_df[[\"text\", \"label\"]])"
   ]
  },
  {
   "cell_type": "markdown",
   "id": "52137df1",
   "metadata": {},
   "source": [
    "## Model Setup"
   ]
  },
  {
   "cell_type": "code",
   "execution_count": 16,
   "id": "7c1aa784",
   "metadata": {},
   "outputs": [],
   "source": [
    "from transformers import (\n",
    "    DistilBertTokenizerFast,\n",
    "    DistilBertForSequenceClassification,\n",
    "    TrainingArguments,\n",
    "    Trainer\n",
    ")\n"
   ]
  },
  {
   "cell_type": "markdown",
   "id": "4a310dba",
   "metadata": {},
   "source": [
    "### Tokenizer"
   ]
  },
  {
   "cell_type": "code",
   "execution_count": 17,
   "id": "3978e42a",
   "metadata": {},
   "outputs": [],
   "source": [
    "tokenizer = DistilBertTokenizerFast.from_pretrained(\"distilbert-base-uncased\")"
   ]
  },
  {
   "cell_type": "markdown",
   "id": "5f5fa689",
   "metadata": {},
   "source": [
    "### Tokenize Fuction\n",
    "\n",
    "This code tokenizes the text data in the train, validation, and test datasets using the tokenizer, applying padding and truncation to ensure uniform input lengths. The .map() function applies the tokenization in batches for efficiency. Finally, the datasets are formatted for use with PyTorch by specifying the required input columns: input_ids, attention_mask, and label."
   ]
  },
  {
   "cell_type": "code",
   "execution_count": 18,
   "id": "ab41ec33",
   "metadata": {},
   "outputs": [
    {
     "name": "stderr",
     "output_type": "stream",
     "text": [
      "Map: 100%|██████████| 7964/7964 [00:02<00:00, 3163.61 examples/s]\n",
      "Map: 100%|██████████| 995/995 [00:00<00:00, 3036.97 examples/s]\n",
      "Map: 100%|██████████| 996/996 [00:00<00:00, 3747.82 examples/s]\n"
     ]
    }
   ],
   "source": [
    "def tokenize(batch):\n",
    "    return tokenizer(batch[\"text\"], padding=True, truncation=True)\n",
    "\n",
    "train_dataset = train_dataset.map(tokenize, batched=True)\n",
    "val_dataset = val_dataset.map(tokenize, batched=True)\n",
    "test_dataset = test_dataset.map(tokenize, batched=True)\n",
    "\n",
    "train_dataset.set_format(\"torch\", columns=[\"input_ids\", \"attention_mask\", \"label\"])\n",
    "val_dataset.set_format(\"torch\", columns=[\"input_ids\", \"attention_mask\", \"label\"])\n",
    "test_dataset.set_format(\"torch\", columns=[\"input_ids\", \"attention_mask\", \"label\"])"
   ]
  },
  {
   "cell_type": "markdown",
   "id": "5a59b111",
   "metadata": {},
   "source": [
    "### Model Initialization\n",
    "\n",
    "We use the pretrained model distilbert-base-uncased for sentiment classification, applying a custom dropout rate of 0.3 to reduce overfitting. This model is ideal because it is lightweight, efficient, and retains much of the performance of larger models like BERT while being faster and less resource-intensive. Using a pretrained transformer also allows us to leverage prior knowledge learned from a large corpus, improving accuracy even with limited labeled data."
   ]
  },
  {
   "cell_type": "code",
   "execution_count": 19,
   "id": "a40509e1",
   "metadata": {},
   "outputs": [
    {
     "name": "stderr",
     "output_type": "stream",
     "text": [
      "Some weights of DistilBertForSequenceClassification were not initialized from the model checkpoint at distilbert-base-uncased and are newly initialized: ['classifier.bias', 'classifier.weight', 'pre_classifier.bias', 'pre_classifier.weight']\n",
      "You should probably TRAIN this model on a down-stream task to be able to use it for predictions and inference.\n"
     ]
    }
   ],
   "source": [
    "from transformers import DistilBertConfig, AutoModelForSequenceClassification\n",
    "config = DistilBertConfig.from_pretrained(\"distilbert-base-uncased\", \n",
    "                                          num_labels=3,\n",
    "                                          dropout=0.3)      # Custom dropout for hidden layers\n",
    "model = AutoModelForSequenceClassification.from_pretrained(\"distilbert-base-uncased\", config=config)"
   ]
  },
  {
   "cell_type": "markdown",
   "id": "2686b58e",
   "metadata": {},
   "source": [
    "### Class Imbalance Solution\n",
    "\n",
    "To address the earlier issue of class imbalance, we manually assigned higher weights to the minority classes (negative and neutral) using the class_weights list. These weights ensure that the model gives more importance to underrepresented classes during training, reducing bias toward the majority (positive) class. The weights are converted into a PyTorch tensor to be used with the loss function.\n",
    "\n",
    "We also experimented with different class weight combinations to find the optimal balance for model performance. After several trials, the weights [2.2, 2.3, 1.0] for negative, neutral, and positive classes respectively produced the best evaluation results, improving the model's ability to correctly classify minority classes. This manual tuning helped reduce bias and improved the overall fairness of the classification."
   ]
  },
  {
   "cell_type": "code",
   "execution_count": 20,
   "id": "c28b45f5",
   "metadata": {},
   "outputs": [],
   "source": [
    "# Manual override: give more importance to negative and neutral\n",
    "class_weights = [3.0, 3.3, 1.0]  # [negative=0, neutral=1, positive=2]\n",
    "class_weights_tensor = torch.tensor(class_weights, dtype=torch.float)"
   ]
  },
  {
   "cell_type": "markdown",
   "id": "3e414f2c",
   "metadata": {},
   "source": [
    "### DistilBERT with Class-Weighted CrossEntropy Loss\n",
    "This code defines a custom PyTorch model class, WeightedDistilBERT, which wraps a pretrained DistilBERT model and incorporates a class-weighted CrossEntropyLoss to handle class imbalance. During training, the model computes the loss using the provided class weights, giving more importance to underrepresented classes. This setup improves the model's ability to learn from imbalanced data and helps reduce bias toward the majority class."
   ]
  },
  {
   "cell_type": "code",
   "execution_count": 21,
   "id": "ae10d367",
   "metadata": {},
   "outputs": [],
   "source": [
    "from torch.nn import CrossEntropyLoss\n",
    "\n",
    "# Define a custom model class that applies class weights\n",
    "class WeightedDistilBERT(torch.nn.Module):\n",
    "    def __init__(self, model, class_weights):\n",
    "        super().__init__()\n",
    "        self.model = model\n",
    "        self.loss_fn = CrossEntropyLoss(weight=class_weights)\n",
    "\n",
    "    def forward(self, input_ids=None, attention_mask=None, labels=None):\n",
    "        outputs = self.model(input_ids=input_ids, attention_mask=attention_mask)\n",
    "        logits = outputs.logits\n",
    "\n",
    "        loss = None\n",
    "        if labels is not None:\n",
    "            loss = self.loss_fn(logits, labels)\n",
    "\n",
    "        return {\"loss\": loss, \"logits\": logits}\n"
   ]
  },
  {
   "cell_type": "markdown",
   "id": "38f2a9e1",
   "metadata": {},
   "source": [
    "### Model Initialization with Device-Aware Class Weights"
   ]
  },
  {
   "cell_type": "code",
   "execution_count": 22,
   "id": "516a6519",
   "metadata": {},
   "outputs": [],
   "source": [
    "weighted_model = WeightedDistilBERT(model, class_weights_tensor.to(torch.device(\"cuda\" if torch.cuda.is_available() else \"cpu\")))\n"
   ]
  },
  {
   "cell_type": "markdown",
   "id": "b388dc6a",
   "metadata": {},
   "source": [
    "### Metrics Function\n",
    "\n",
    "This function computes evaluation metrics for the model's predictions during validation or testing.This function computes accuracy, precision, recall, and F1-score."
   ]
  },
  {
   "cell_type": "code",
   "execution_count": 23,
   "id": "4645a2d2",
   "metadata": {},
   "outputs": [],
   "source": [
    "from sklearn.metrics import accuracy_score, precision_recall_fscore_support\n",
    "\n",
    "def compute_metrics(pred):\n",
    "    labels = pred.label_ids\n",
    "    preds = pred.predictions.argmax(-1)\n",
    "    acc = accuracy_score(labels, preds)\n",
    "    precision, recall, f1, _ = precision_recall_fscore_support(labels, preds, average='weighted')\n",
    "    return {\n",
    "        'accuracy': acc,\n",
    "        'precision': precision,\n",
    "        'recall': recall,\n",
    "        'f1': f1\n",
    "    }"
   ]
  },
  {
   "cell_type": "markdown",
   "id": "7eb6cf9b",
   "metadata": {},
   "source": [
    "### Training Phase\n",
    "\n",
    "The model will iterate over the entire training dataset 10 times. This is a reasonable starting point for fine-tuning and allows the model enough time to converge without overfitting.\n",
    "\n",
    "We used a small learning rate because we are using a pretrained model. Lower LR will help us avoid large updates that could erase learned features of our pretrained model.\n",
    "\n",
    "A batch size of 16 balances memory usage and convergence speed.\n",
    "\n",
    "A small amount of L2 regularization is applied to prevent overfitting by penalizing large weights.\n",
    "\n",
    "These hyperparameters were chosen to optimize training efficiency while preventing overfitting. We used a low learning rate and regularization to preserve pretrained knowledge from DistilBERT and ensure stable fine-tuning on our restaurant review dataset.\n",
    "\n"
   ]
  },
  {
   "cell_type": "code",
   "execution_count": 24,
   "id": "4c8fdf6d",
   "metadata": {},
   "outputs": [
    {
     "name": "stderr",
     "output_type": "stream",
     "text": [
      "C:\\Users\\Wax\\AppData\\Local\\Temp\\ipykernel_21912\\4235885911.py:19: FutureWarning: `tokenizer` is deprecated and will be removed in version 5.0.0 for `Trainer.__init__`. Use `processing_class` instead.\n",
      "  trainer = Trainer(\n"
     ]
    },
    {
     "data": {
      "text/html": [
       "\n",
       "    <div>\n",
       "      \n",
       "      <progress value='4980' max='4980' style='width:300px; height:20px; vertical-align: middle;'></progress>\n",
       "      [4980/4980 4:23:05, Epoch 10/10]\n",
       "    </div>\n",
       "    <table border=\"1\" class=\"dataframe\">\n",
       "  <thead>\n",
       " <tr style=\"text-align: left;\">\n",
       "      <th>Step</th>\n",
       "      <th>Training Loss</th>\n",
       "    </tr>\n",
       "  </thead>\n",
       "  <tbody>\n",
       "    <tr>\n",
       "      <td>500</td>\n",
       "      <td>0.591200</td>\n",
       "    </tr>\n",
       "    <tr>\n",
       "      <td>1000</td>\n",
       "      <td>0.448400</td>\n",
       "    </tr>\n",
       "    <tr>\n",
       "      <td>1500</td>\n",
       "      <td>0.372300</td>\n",
       "    </tr>\n",
       "    <tr>\n",
       "      <td>2000</td>\n",
       "      <td>0.315700</td>\n",
       "    </tr>\n",
       "    <tr>\n",
       "      <td>2500</td>\n",
       "      <td>0.254500</td>\n",
       "    </tr>\n",
       "    <tr>\n",
       "      <td>3000</td>\n",
       "      <td>0.216300</td>\n",
       "    </tr>\n",
       "    <tr>\n",
       "      <td>3500</td>\n",
       "      <td>0.191800</td>\n",
       "    </tr>\n",
       "    <tr>\n",
       "      <td>4000</td>\n",
       "      <td>0.164000</td>\n",
       "    </tr>\n",
       "    <tr>\n",
       "      <td>4500</td>\n",
       "      <td>0.148700</td>\n",
       "    </tr>\n",
       "  </tbody>\n",
       "</table><p>"
      ],
      "text/plain": [
       "<IPython.core.display.HTML object>"
      ]
     },
     "metadata": {},
     "output_type": "display_data"
    },
    {
     "data": {
      "text/plain": [
       "TrainOutput(global_step=4980, training_loss=0.28419462916362714, metrics={'train_runtime': 15792.6925, 'train_samples_per_second': 5.043, 'train_steps_per_second': 0.315, 'total_flos': 0.0, 'train_loss': 0.28419462916362714, 'epoch': 10.0})"
      ]
     },
     "execution_count": 24,
     "metadata": {},
     "output_type": "execute_result"
    }
   ],
   "source": [
    "import evaluate\n",
    "import numpy as np\n",
    "import torch\n",
    "from sklearn.metrics import accuracy_score, precision_recall_fscore_support\n",
    "\n",
    "\n",
    "training_args = TrainingArguments(\n",
    "    output_dir=\"./results\",\n",
    "    learning_rate=2e-5,\n",
    "    per_device_train_batch_size=16,\n",
    "    per_device_eval_batch_size=16,\n",
    "    num_train_epochs=10,\n",
    "    weight_decay=0.01,\n",
    "    logging_steps=500,\n",
    ")\n",
    "\n",
    "# STEP 12: Train the Model\n",
    "\n",
    "trainer = Trainer(\n",
    "    model=weighted_model,\n",
    "    args=training_args,\n",
    "    train_dataset=train_dataset,\n",
    "    eval_dataset=val_dataset,\n",
    "    tokenizer=tokenizer,\n",
    "    compute_metrics=compute_metrics\n",
    ")\n",
    "\n",
    "\n",
    "\n",
    "trainer.train()"
   ]
  },
  {
   "cell_type": "markdown",
   "id": "398dc6c1",
   "metadata": {},
   "source": [
    "### Validation Phase\n",
    "\n",
    "During validation, the model achieved a strong accuracy of 85.03% and an F1-score of 85.42%, indicating high reliability and well-balanced performance across all classes. The relatively low validation loss (1.02) suggests effective learning and minimal overfitting."
   ]
  },
  {
   "cell_type": "code",
   "execution_count": 25,
   "id": "df4fbc33",
   "metadata": {},
   "outputs": [
    {
     "data": {
      "text/html": [],
      "text/plain": [
       "<IPython.core.display.HTML object>"
      ]
     },
     "metadata": {},
     "output_type": "display_data"
    },
    {
     "data": {
      "text/plain": [
       "{'eval_loss': 1.016629934310913,\n",
       " 'eval_accuracy': 0.8502512562814071,\n",
       " 'eval_precision': 0.8589266363499677,\n",
       " 'eval_recall': 0.8502512562814071,\n",
       " 'eval_f1': 0.8541580395074078,\n",
       " 'eval_runtime': 75.897,\n",
       " 'eval_samples_per_second': 13.11,\n",
       " 'eval_steps_per_second': 0.83,\n",
       " 'epoch': 10.0}"
      ]
     },
     "execution_count": 25,
     "metadata": {},
     "output_type": "execute_result"
    }
   ],
   "source": [
    "trainer.evaluate(eval_dataset=val_dataset)\n"
   ]
  },
  {
   "cell_type": "markdown",
   "id": "7441cdc0",
   "metadata": {},
   "source": [
    "### Testing Phase\n",
    "\n",
    "The model achieved strong performance on the test set, with an accuracy of 84.34% and an F1-score of 84.48%, indicating balanced and consistent predictions across sentiment classes. The low loss value (1.07) suggests the model generalizes well to unseen data.\n"
   ]
  },
  {
   "cell_type": "code",
   "execution_count": 26,
   "id": "35146601",
   "metadata": {},
   "outputs": [
    {
     "data": {
      "text/plain": [
       "{'eval_loss': 1.0697822570800781,\n",
       " 'eval_accuracy': 0.8433734939759037,\n",
       " 'eval_precision': 0.8468368666975595,\n",
       " 'eval_recall': 0.8433734939759037,\n",
       " 'eval_f1': 0.844767714337081,\n",
       " 'eval_runtime': 75.6384,\n",
       " 'eval_samples_per_second': 13.168,\n",
       " 'eval_steps_per_second': 0.833,\n",
       " 'epoch': 10.0}"
      ]
     },
     "execution_count": 26,
     "metadata": {},
     "output_type": "execute_result"
    }
   ],
   "source": [
    "trainer.evaluate(test_dataset)"
   ]
  },
  {
   "cell_type": "markdown",
   "id": "733fb2a2",
   "metadata": {},
   "source": [
    "### Confusion Matrix"
   ]
  },
  {
   "cell_type": "code",
   "execution_count": 27,
   "id": "02bc9673",
   "metadata": {},
   "outputs": [],
   "source": [
    "predictions = trainer.predict(test_dataset)\n",
    "preds = torch.argmax(torch.tensor(predictions.predictions), dim=1).numpy()\n",
    "labels = predictions.label_ids"
   ]
  },
  {
   "cell_type": "code",
   "execution_count": 28,
   "id": "717107e0",
   "metadata": {},
   "outputs": [
    {
     "data": {
      "image/png": "[encoded data removed]",
      "text/plain": [
       "<Figure size 640x480 with 2 Axes>"
      ]
     },
     "metadata": {},
     "output_type": "display_data"
    }
   ],
   "source": [
    "from sklearn.metrics import confusion_matrix, ConfusionMatrixDisplay\n",
    "import matplotlib.pyplot as plt\n",
    "\n",
    "label_names = ['negative', 'neutral', 'positive']\n",
    "\n",
    "cm = confusion_matrix(labels, preds)\n",
    "disp = ConfusionMatrixDisplay(confusion_matrix=cm, display_labels=label_names)\n",
    "disp.plot(cmap=plt.cm.Blues)\n",
    "plt.title(\"Confusion Matrix\")\n",
    "plt.show()\n"
   ]
  },
  {
   "cell_type": "markdown",
   "id": "bff3c597",
   "metadata": {},
   "source": [
    "The confusion matrix shows that the model performs well across all three sentiment classes (negative, neutral, and positive) with especially strong performance on the positive class.\n",
    "\n",
    "Positive reviews are the most accurately predicted: 567 correctly out of ~627, with only 8 misclassified as negative and 52 as neutral.\n",
    "\n",
    "Negative reviews are also handled well, with 217 correct predictions, and relatively low confusion with neutral (20) and positive (8).\n",
    "\n",
    "Neutral reviews show the most confusion, with 56 correct, but 35 misclassified as negative and 33 as positive — indicating that neutral sentiment is more challenging for the model to distinguish.\n",
    "\n",
    "This confusion matrix suggests that the model is highly reliable for detecting positive and negative sentiments, but there is room for improvement in distinguishing neutral reviews. Still, the overall distribution shows a balanced and accurate model, suitable for real-world deployment with additional fine-tuning if neutral precision is a priority.\n",
    "\n"
   ]
  },
  {
   "cell_type": "markdown",
   "id": "c3bd1128",
   "metadata": {},
   "source": [
    "The code below saves the fine-tuned model and its corresponding tokenizer to the ./best_sentiment_modelv3 directory. By calling .save_pretrained(), both the model weights and tokenizer configuration are stored in a format that can be easily reloaded later using from_pretrained(). This step is essential for deployment, sharing, or future inference without needing to retrain the model."
   ]
  },
  {
   "cell_type": "code",
   "execution_count": 29,
   "id": "02f8e329",
   "metadata": {},
   "outputs": [
    {
     "data": {
      "text/plain": [
       "('./best_sentiment_modelv4\\\\tokenizer_config.json',\n",
       " './best_sentiment_modelv4\\\\special_tokens_map.json',\n",
       " './best_sentiment_modelv4\\\\vocab.txt',\n",
       " './best_sentiment_modelv4\\\\added_tokens.json',\n",
       " './best_sentiment_modelv4\\\\tokenizer.json')"
      ]
     },
     "execution_count": 29,
     "metadata": {},
     "output_type": "execute_result"
    }
   ],
   "source": [
    "trainer.model.model.save_pretrained(\"./best_sentiment_modelv4\")\n",
    "tokenizer.save_pretrained(\"./best_sentiment_modelv4\")\n"
   ]
  },
  {
   "cell_type": "code",
   "execution_count": 1,
   "id": "1d74979f",
   "metadata": {},
   "outputs": [
    {
     "name": "stderr",
     "output_type": "stream",
     "text": [
      "d:\\AI_Repositories_2\\Pytorch\\pytorch1\\Lib\\site-packages\\tqdm\\auto.py:21: TqdmWarning: IProgress not found. Please update jupyter and ipywidgets. See https://ipywidgets.readthedocs.io/en/stable/user_install.html\n",
      "  from .autonotebook import tqdm as notebook_tqdm\n"
     ]
    }
   ],
   "source": [
    "from transformers import AutoModelForSequenceClassification, AutoTokenizer\n",
    "\n",
    "model = AutoModelForSequenceClassification.from_pretrained(\"./best_sentiment_modelv4\")\n",
    "tokenizer = AutoTokenizer.from_pretrained(\"./best_sentiment_modelv4\")\n"
   ]
  },
  {
   "cell_type": "markdown",
   "id": "2bd01e75",
   "metadata": {},
   "source": [
    "### Model Inference\n",
    "\n",
    "The code below represents the inference phase, where the trained model is used to make predictions on new, unseen text data. It simulates how the model would perform in a real-world application by taking user input, processing it, and returning the predicted sentiment. "
   ]
  },
  {
   "cell_type": "code",
   "execution_count": 31,
   "id": "59a6fbc4",
   "metadata": {},
   "outputs": [
    {
     "name": "stdout",
     "output_type": "stream",
     "text": [
      "positive\n"
     ]
    }
   ],
   "source": [
    "import torch\n",
    "# Load model to proper device\n",
    "device = torch.device(\"cuda\" if torch.cuda.is_available() else \"cpu\")\n",
    "model = model.to(device)\n",
    "model.eval()\n",
    "\n",
    "# Define label mapping (reverse map)\n",
    "inv_label_map = {0: 'negative', 1: 'neutral', 2: 'positive'}\n",
    "\n",
    "# Inference function\n",
    "def predict_sentiment(text):\n",
    "    inputs = tokenizer(text, return_tensors=\"pt\", truncation=True, padding=True).to(device)\n",
    "    with torch.no_grad():\n",
    "        outputs = model(**inputs)\n",
    "    logits = outputs.logits\n",
    "    prediction = torch.argmax(logits, dim=1).item()\n",
    "    return inv_label_map[prediction]\n",
    "\n",
    "# Example usage\n",
    "\n",
    "print(predict_sentiment(\"I love dining at Wolfgang Manila! The food is amazing and the service is top-notch. Highly recommend it to everyone!\"))"
   ]
  },
  {
   "cell_type": "code",
   "execution_count": 32,
   "id": "dbf3f384",
   "metadata": {},
   "outputs": [
    {
     "name": "stdout",
     "output_type": "stream",
     "text": [
      "neutral\n"
     ]
    }
   ],
   "source": [
    "print(predict_sentiment(\"Jollibee offers a good appetizer, but the main course was a bit disappointing.\"))"
   ]
  },
  {
   "cell_type": "markdown",
   "id": "3f02a6e7",
   "metadata": {},
   "source": [
    "### Spam Detection Function\n",
    "\n",
    "This function is one of the features of our system, designed to detect whether a given input is spam or not. It helps ensure that the system only processes genuine restaurant reviews by filtering out irrelevant or spammy content. The function uses a pretrained BERT model specifically fine-tuned for spam classification.\n",
    "\n",
    "We use the pretrained AventIQ-AI/bert-spam-detection model, which is built on the BERT base uncased architecture and fine-tuned specifically for spam detection tasks. This model was trained on datasets like the Hugging Face spam-mail and mail_spam_ham_dataset, achieving high performance with an accuracy and F1-score of around 99%. It is also quantized to float16, making it lightweight and efficient for real-time deployment.\n"
   ]
  },
  {
   "cell_type": "code",
   "execution_count": 33,
   "id": "f6d50155",
   "metadata": {},
   "outputs": [],
   "source": [
    "from transformers import BertTokenizer, BertForSequenceClassification\n",
    "import torch\n",
    "\n",
    "# Load the tokenizer and model\n",
    "model_name = \"AventIQ-AI/bert-spam-detection\"\n",
    "tokenizer = BertTokenizer.from_pretrained(model_name)\n",
    "model = BertForSequenceClassification.from_pretrained(model_name)\n",
    "\n",
    "# Set the device\n",
    "device = torch.device(\"cuda\" if torch.cuda.is_available() else \"cpu\")\n",
    "model.to(device)\n",
    "model.eval()\n",
    "\n",
    "# Define the prediction function\n",
    "def predict_spam(text):\n",
    "    inputs = tokenizer(text, return_tensors=\"pt\", truncation=True, padding=True, max_length=512)\n",
    "    inputs = {key: value.to(device) for key, value in inputs.items()}\n",
    "    with torch.no_grad():\n",
    "        outputs = model(**inputs)\n",
    "        prediction = torch.argmax(outputs.logits, dim=1).item()\n",
    "    return \"Spam\" if prediction == 1 else \"Not Spam\""
   ]
  },
  {
   "cell_type": "code",
   "execution_count": 34,
   "id": "b8c4e580",
   "metadata": {},
   "outputs": [
    {
     "name": "stdout",
     "output_type": "stream",
     "text": [
      "Not Spam\n"
     ]
    }
   ],
   "source": [
    "print(predict_spam(\"Wolfgang Manila is the place I wont recommend to anyone! waiters are rude!\"))"
   ]
  },
  {
   "cell_type": "code",
   "execution_count": 35,
   "id": "0b440991",
   "metadata": {},
   "outputs": [
    {
     "name": "stdout",
     "output_type": "stream",
     "text": [
      "Spam\n"
     ]
    }
   ],
   "source": [
    "print(predict_spam(\"Do you want to win dollars? Hurry up and click this link to claim your prize! www.example.com\"))"
   ]
  },
  {
   "cell_type": "markdown",
   "id": "6cfa5503",
   "metadata": {},
   "source": [
    "### Toxic Input Filter Function\n",
    "\n",
    "This function helps maintain the safety, quality, and relevance of inputs in our system by filtering out abusive, harmful, or irrelevant content before it reaches the sentiment classifier or chatbot module.\n",
    "\n",
    "We use Detoxify, a pretrained model based on BERT, designed specifically to detect various forms of toxic language such as insults, threats, hate speech, and profanity. The version used (Detoxify('original')) provides a toxicity score, and we flag inputs with a score above 0.5 as toxic."
   ]
  },
  {
   "cell_type": "code",
   "execution_count": 36,
   "id": "a7d6904c",
   "metadata": {},
   "outputs": [],
   "source": [
    "from detoxify import Detoxify\n",
    "\n",
    "# Initialize Detoxify once\n",
    "tox_model = Detoxify('original')\n",
    "\n",
    "def filter(text):\n",
    "    # Run toxicity check\n",
    "    tox_scores = tox_model.predict(text)\n",
    "    is_toxic = tox_scores[\"toxicity\"] > 0.5\n",
    "\n",
    "    # Run spam detection\n",
    "    is_spam = predict_spam(text) == \"Spam\"\n",
    "\n",
    "    if is_toxic and is_spam:\n",
    "        return \"🚫 Your message was flagged as both toxic and spam.\"\n",
    "    elif is_toxic:\n",
    "        return \"⚠️ Your message contains toxic language. Please be respectful.\"\n",
    "    elif is_spam:\n",
    "        return \"⚠️ Your message appears to be spam. Please avoid promotional or misleading content.\"\n",
    "    else:\n",
    "        return \"✅ Message accepted. How can I help you?\"\n"
   ]
  },
  {
   "cell_type": "code",
   "execution_count": 37,
   "id": "f3c16c16",
   "metadata": {},
   "outputs": [
    {
     "name": "stdout",
     "output_type": "stream",
     "text": [
      "⚠️ Your message appears to be spam. Please avoid promotional or misleading content.\n"
     ]
    }
   ],
   "source": [
    "print(filter(\"want to win a brand new car? click the link www.sample.com\"))  # Should be accepted"
   ]
  },
  {
   "cell_type": "markdown",
   "id": "0e7496a8",
   "metadata": {},
   "source": [
    "### NER, Sentiment, and LIME Explanation Pipeline\n",
    "\n",
    "This function is responsible for performing Named Entity Recognition (NER), Sentiment Classification, and generating explainability insights using LIME (Local Interpretable Model-Agnostic Explanations). It provides a full diagnostic on each restaurant review by extracting relevant entities (e.g., restaurant names, locations), classifying the overall sentiment, and identifying which specific words most influenced the model’s prediction. "
   ]
  },
  {
   "cell_type": "code",
   "execution_count": 4,
   "id": "c69cf569",
   "metadata": {},
   "outputs": [],
   "source": [
    "import spacy\n",
    "from lime.lime_text import LimeTextExplainer\n",
    "\n",
    "# Load spaCy model once\n",
    "nlp = spacy.load(\"en_core_web_sm\")\n",
    "\n",
    "# Full analysis function\n",
    "def analyze_review(text):\n",
    "    print(f\"\\n🔍 Input: {text}\\n\")\n",
    "\n",
    "    # NER\n",
    "    doc = nlp(text)\n",
    "    entities = [(ent.text, ent.label_) for ent in doc.ents]\n",
    "    print(f\"🏷️ Named Entities: {entities if entities else 'None'}\")\n",
    "\n",
    "    # SENTIMENT\n",
    "    sentiment = predict_sentiment(text)\n",
    "    print(f\"💬 Sentiment: {sentiment.upper()}\")\n",
    "\n",
    "    # LIME\n",
    "    explainer = LimeTextExplainer(class_names=['Negative', 'Neutral', 'Positive'])\n",
    "\n",
    "    def predict_proba(texts):\n",
    "        tokens = tokenizer(texts, padding=True, truncation=True, return_tensors=\"pt\").to(device)\n",
    "        with torch.no_grad():\n",
    "            outputs = model(**tokens)\n",
    "            probs = torch.nn.functional.softmax(outputs.logits, dim=1)\n",
    "        return probs.cpu().numpy()\n",
    "\n",
    "    print(\"📌 LIME Explanation (Top Contributing Words):\")\n",
    "    exp = explainer.explain_instance(text, predict_proba, num_features=2)\n",
    "    for word, score in exp.as_list():\n",
    "        print(f\"   - {word}: {score:.3f}\")\n",
    "\n",
    "    return {\n",
    "        \"text\": text,\n",
    "        \"entities\": entities,\n",
    "        \"sentiment\": sentiment,\n",
    "    }\n"
   ]
  },
  {
   "cell_type": "code",
   "execution_count": 9,
   "id": "c124afce",
   "metadata": {},
   "outputs": [
    {
     "name": "stdout",
     "output_type": "stream",
     "text": [
      "\n",
      "🔍 Input: I love dining at Wolfgang Manila! The food is amazing and the service is top-notch. Highly recommend it to everyone!\n",
      "\n",
      "🏷️ Named Entities: [('Wolfgang Manila', 'PERSON')]\n",
      "💬 Sentiment: POSITIVE\n",
      "📌 LIME Explanation (Top Contributing Words):\n",
      "   - love: -0.000\n",
      "   - everyone: -0.000\n"
     ]
    },
    {
     "data": {
      "text/plain": [
       "{'text': 'I love dining at Wolfgang Manila! The food is amazing and the service is top-notch. Highly recommend it to everyone!',\n",
       " 'entities': [('Wolfgang Manila', 'PERSON')],\n",
       " 'sentiment': 'positive'}"
      ]
     },
     "execution_count": 9,
     "metadata": {},
     "output_type": "execute_result"
    }
   ],
   "source": [
    "\n",
    "# 🧪 Example Analysis\n",
    "analyze_review(\"I love dining at Wolfgang Manila! The food is amazing and the service is top-notch. Highly recommend it to everyone!\")\n"
   ]
  },
  {
   "cell_type": "markdown",
   "id": "aa42e408",
   "metadata": {},
   "source": [
    "### Export to CSV Function\n",
    "\n",
    "This function saves the output of the review analysis (e.g., text, sentiment, entities, timestamp) to a CSV file named restaurant_review_analysis.csv."
   ]
  },
  {
   "cell_type": "code",
   "execution_count": 39,
   "id": "a4b26705",
   "metadata": {},
   "outputs": [],
   "source": [
    "import pandas as pd\n",
    "import os\n",
    "from datetime import datetime\n",
    "\n",
    "def save_review_to_csv(result, csv_path=\"restaurant_review_analysis.csv\"):\n",
    "    # Add timestamp to result\n",
    "    result[\"created_at\"] = datetime.now().strftime(\"%Y-%m-%d %H:%M:%S\")\n",
    "\n",
    "    # Convert to DataFrame\n",
    "    df = pd.DataFrame([result])\n",
    "\n",
    "    # Append to file (create if it doesn't exist)\n",
    "    if not os.path.exists(csv_path):\n",
    "        df.to_csv(csv_path, index=False)\n",
    "        print(f\"✅ CSV created and review saved.\")\n",
    "    else:\n",
    "        df.to_csv(csv_path, mode='a', header=False, index=False)\n",
    "        print(f\"✅ Review appended to existing CSV.\")\n"
   ]
  },
  {
   "cell_type": "code",
   "execution_count": 40,
   "id": "02a2a864",
   "metadata": {},
   "outputs": [
    {
     "name": "stdout",
     "output_type": "stream",
     "text": [
      "\n",
      "🔍 Input: Jollibee Recto is such a lovely place!\n",
      "\n",
      "🏷️ Named Entities: [('Jollibee Recto', 'PERSON')]\n",
      "💬 Sentiment: NEGATIVE\n",
      "📌 LIME Explanation (Top Contributing Words):\n",
      "   - Jollibee: -0.000\n",
      "   - lovely: -0.000\n",
      "✅ Review appended to existing CSV.\n"
     ]
    }
   ],
   "source": [
    "review_text = \"Jollibee Recto is such a lovely place!\"\n",
    "result = analyze_review(review_text)\n",
    "save_review_to_csv(result)\n"
   ]
  }
 ],
 "metadata": {
  "kernelspec": {
   "display_name": "pytorch1",
   "language": "python",
   "name": "python3"
  },
  "language_info": {
   "codemirror_mode": {
    "name": "ipython",
    "version": 3
   },
   "file_extension": ".py",
   "mimetype": "text/x-python",
   "name": "python",
   "nbconvert_exporter": "python",
   "pygments_lexer": "ipython3",
   "version": "3.11.9"
  }
 },
 "nbformat": 4,
 "nbformat_minor": 5
}
